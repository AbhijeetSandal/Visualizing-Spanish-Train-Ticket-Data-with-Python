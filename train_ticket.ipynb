{
 "cells": [
  {
   "cell_type": "code",
   "execution_count": 1,
   "metadata": {},
   "outputs": [],
   "source": [
    "# import data manipulation libraries\n",
    "import pandas as pd\n",
    "import numpy as np\n",
    " \n",
    "# import data viz libraries \n",
    "import matplotlib.pyplot as plt\n",
    "import seaborn as sns\n",
    "\n"
   ]
  },
  {
   "cell_type": "markdown",
   "metadata": {},
   "source": [
    "Read in Data"
   ]
  },
  {
   "cell_type": "code",
   "execution_count": 5,
   "metadata": {},
   "outputs": [],
   "source": [
    "train = pd.read_csv(\"train_ticket_data.csv\",\n",
    "                    parse_dates=[\"departure\"],\n",
    "                    dtype={\n",
    "                        \"origin\": \"category\",\n",
    "                        \"destination\": \"category\",\n",
    "                        \"vehicle_type\": \"category\",\n",
    "                        \"vehicle_class\": \"category\",\n",
    "                        \"fare\":\"category\"\n",
    "                    }\n",
    "                   ).drop(\"Unnamed: 0\", axis=1)"
   ]
  },
  {
   "cell_type": "markdown",
   "metadata": {},
   "source": [
    "#Create new columns and check for missing data"
   ]
  },
  {
   "cell_type": "code",
   "execution_count": 6,
   "metadata": {},
   "outputs": [],
   "source": [
    "from pandas.api.types import CategoricalDtype\n",
    " \n",
    "# created ordered category for weekday. integer dayofweek is ok, but less helpful for customers\n",
    " \n",
    "cat_type = CategoricalDtype(\n",
    "    categories=[\n",
    "        \"Monday\", \n",
    "        \"Tuesday\",\n",
    "        \"Wednesday\",\n",
    "        \"Thursday\",\n",
    "        \"Friday\",\n",
    "        \"Saturday\",\n",
    "        \"Sunday\"\n",
    "    ], \n",
    "    ordered=True)\n",
    " \n",
    "# Create departure, day_of_week, and hour columns\n",
    " \n",
    "train = train.assign(\n",
    "    arrival= train[\"departure\"] + pd.to_timedelta(train[\"duration\"], unit=\"H\"),\n",
    "    departure_dayofweek = (train[\"departure\"].dt.day_name().astype(cat_type)),\n",
    "    departure_hour = train[\"departure\"].dt.hour,\n",
    "    vehicle_category = (train[\"vehicle_type\"]\n",
    "                        .map({\"AVE\": \"High-Speed\", \n",
    "                              \"AVE-TGV\": \"High-Speed\", \n",
    "                              \"R. EXPRES\": \"Standard\",\n",
    "                              \"LD-AVE\": \"Standard\",\n",
    "                              \"AVE-LD\": \"Standard\",\n",
    "                              \"MD-AVE\": \"Standard\",\n",
    "                              \"LD-MD\": \"Standard\"                          \n",
    "                        }))\n",
    ")"
   ]
  },
  {
   "cell_type": "markdown",
   "metadata": {},
   "source": [
    "Generate key summary statistics for Management"
   ]
  },
  {
   "cell_type": "code",
   "execution_count": 7,
   "metadata": {},
   "outputs": [
    {
     "data": {
      "text/html": [
       "<div>\n",
       "<style scoped>\n",
       "    .dataframe tbody tr th:only-of-type {\n",
       "        vertical-align: middle;\n",
       "    }\n",
       "\n",
       "    .dataframe tbody tr th {\n",
       "        vertical-align: top;\n",
       "    }\n",
       "\n",
       "    .dataframe thead th {\n",
       "        text-align: right;\n",
       "    }\n",
       "</style>\n",
       "<table border=\"1\" class=\"dataframe\">\n",
       "  <thead>\n",
       "    <tr style=\"text-align: right;\">\n",
       "      <th></th>\n",
       "      <th>duration</th>\n",
       "      <th>price</th>\n",
       "      <th>departure_hour</th>\n",
       "    </tr>\n",
       "  </thead>\n",
       "  <tbody>\n",
       "    <tr>\n",
       "      <th>count</th>\n",
       "      <td>1525950.0</td>\n",
       "      <td>1458886.0</td>\n",
       "      <td>1525950.0</td>\n",
       "    </tr>\n",
       "    <tr>\n",
       "      <th>mean</th>\n",
       "      <td>3.0</td>\n",
       "      <td>86.0</td>\n",
       "      <td>13.0</td>\n",
       "    </tr>\n",
       "    <tr>\n",
       "      <th>std</th>\n",
       "      <td>1.0</td>\n",
       "      <td>22.0</td>\n",
       "      <td>5.0</td>\n",
       "    </tr>\n",
       "    <tr>\n",
       "      <th>min</th>\n",
       "      <td>2.0</td>\n",
       "      <td>41.0</td>\n",
       "      <td>5.0</td>\n",
       "    </tr>\n",
       "    <tr>\n",
       "      <th>25%</th>\n",
       "      <td>2.0</td>\n",
       "      <td>75.0</td>\n",
       "      <td>8.0</td>\n",
       "    </tr>\n",
       "    <tr>\n",
       "      <th>50%</th>\n",
       "      <td>3.0</td>\n",
       "      <td>85.0</td>\n",
       "      <td>13.0</td>\n",
       "    </tr>\n",
       "    <tr>\n",
       "      <th>75%</th>\n",
       "      <td>3.0</td>\n",
       "      <td>100.0</td>\n",
       "      <td>17.0</td>\n",
       "    </tr>\n",
       "    <tr>\n",
       "      <th>max</th>\n",
       "      <td>11.0</td>\n",
       "      <td>235.0</td>\n",
       "      <td>21.0</td>\n",
       "    </tr>\n",
       "  </tbody>\n",
       "</table>\n",
       "</div>"
      ],
      "text/plain": [
       "        duration      price  departure_hour\n",
       "count  1525950.0  1458886.0       1525950.0\n",
       "mean         3.0       86.0            13.0\n",
       "std          1.0       22.0             5.0\n",
       "min          2.0       41.0             5.0\n",
       "25%          2.0       75.0             8.0\n",
       "50%          3.0       85.0            13.0\n",
       "75%          3.0      100.0            17.0\n",
       "max         11.0      235.0            21.0"
      ]
     },
     "execution_count": 7,
     "metadata": {},
     "output_type": "execute_result"
    }
   ],
   "source": [
    "train.describe().round()"
   ]
  },
  {
   "cell_type": "code",
   "execution_count": null,
   "metadata": {},
   "outputs": [],
   "source": [
    "train.loc[train[\"price\"] == train[\"price\"].max()]"
   ]
  },
  {
   "cell_type": "code",
   "execution_count": 8,
   "metadata": {},
   "outputs": [
    {
     "data": {
      "text/html": [
       "<div>\n",
       "<style scoped>\n",
       "    .dataframe tbody tr th:only-of-type {\n",
       "        vertical-align: middle;\n",
       "    }\n",
       "\n",
       "    .dataframe tbody tr th {\n",
       "        vertical-align: top;\n",
       "    }\n",
       "\n",
       "    .dataframe thead th {\n",
       "        text-align: right;\n",
       "    }\n",
       "</style>\n",
       "<table border=\"1\" class=\"dataframe\">\n",
       "  <thead>\n",
       "    <tr style=\"text-align: right;\">\n",
       "      <th></th>\n",
       "      <th>origin</th>\n",
       "      <th>destination</th>\n",
       "      <th>departure</th>\n",
       "      <th>duration</th>\n",
       "      <th>vehicle_type</th>\n",
       "      <th>vehicle_class</th>\n",
       "      <th>price</th>\n",
       "      <th>fare</th>\n",
       "      <th>arrival</th>\n",
       "      <th>departure_dayofweek</th>\n",
       "      <th>departure_hour</th>\n",
       "      <th>vehicle_category</th>\n",
       "    </tr>\n",
       "  </thead>\n",
       "  <tbody>\n",
       "    <tr>\n",
       "      <th>1416363</th>\n",
       "      <td>BARCELONA</td>\n",
       "      <td>MADRID</td>\n",
       "      <td>2019-05-28 21:15:00</td>\n",
       "      <td>2.78</td>\n",
       "      <td>AVE</td>\n",
       "      <td>Turista</td>\n",
       "      <td>40.93</td>\n",
       "      <td>Promo</td>\n",
       "      <td>2019-05-29 00:01:48</td>\n",
       "      <td>Tuesday</td>\n",
       "      <td>21</td>\n",
       "      <td>High-Speed</td>\n",
       "    </tr>\n",
       "    <tr>\n",
       "      <th>1416383</th>\n",
       "      <td>BARCELONA</td>\n",
       "      <td>MADRID</td>\n",
       "      <td>2019-05-28 21:15:00</td>\n",
       "      <td>2.78</td>\n",
       "      <td>AVE</td>\n",
       "      <td>Turista</td>\n",
       "      <td>40.93</td>\n",
       "      <td>Promo</td>\n",
       "      <td>2019-05-29 00:01:48</td>\n",
       "      <td>Tuesday</td>\n",
       "      <td>21</td>\n",
       "      <td>High-Speed</td>\n",
       "    </tr>\n",
       "    <tr>\n",
       "      <th>1419884</th>\n",
       "      <td>BARCELONA</td>\n",
       "      <td>MADRID</td>\n",
       "      <td>2019-05-28 21:15:00</td>\n",
       "      <td>2.78</td>\n",
       "      <td>AVE</td>\n",
       "      <td>Turista</td>\n",
       "      <td>40.93</td>\n",
       "      <td>Promo</td>\n",
       "      <td>2019-05-29 00:01:48</td>\n",
       "      <td>Tuesday</td>\n",
       "      <td>21</td>\n",
       "      <td>High-Speed</td>\n",
       "    </tr>\n",
       "    <tr>\n",
       "      <th>1419913</th>\n",
       "      <td>BARCELONA</td>\n",
       "      <td>MADRID</td>\n",
       "      <td>2019-05-28 21:15:00</td>\n",
       "      <td>2.78</td>\n",
       "      <td>AVE</td>\n",
       "      <td>Turista</td>\n",
       "      <td>40.93</td>\n",
       "      <td>Promo</td>\n",
       "      <td>2019-05-29 00:01:48</td>\n",
       "      <td>Tuesday</td>\n",
       "      <td>21</td>\n",
       "      <td>High-Speed</td>\n",
       "    </tr>\n",
       "  </tbody>\n",
       "</table>\n",
       "</div>"
      ],
      "text/plain": [
       "            origin destination           departure  duration vehicle_type  \\\n",
       "1416363  BARCELONA      MADRID 2019-05-28 21:15:00      2.78          AVE   \n",
       "1416383  BARCELONA      MADRID 2019-05-28 21:15:00      2.78          AVE   \n",
       "1419884  BARCELONA      MADRID 2019-05-28 21:15:00      2.78          AVE   \n",
       "1419913  BARCELONA      MADRID 2019-05-28 21:15:00      2.78          AVE   \n",
       "\n",
       "        vehicle_class  price   fare             arrival departure_dayofweek  \\\n",
       "1416363       Turista  40.93  Promo 2019-05-29 00:01:48             Tuesday   \n",
       "1416383       Turista  40.93  Promo 2019-05-29 00:01:48             Tuesday   \n",
       "1419884       Turista  40.93  Promo 2019-05-29 00:01:48             Tuesday   \n",
       "1419913       Turista  40.93  Promo 2019-05-29 00:01:48             Tuesday   \n",
       "\n",
       "         departure_hour vehicle_category  \n",
       "1416363              21       High-Speed  \n",
       "1416383              21       High-Speed  \n",
       "1419884              21       High-Speed  \n",
       "1419913              21       High-Speed  "
      ]
     },
     "execution_count": 8,
     "metadata": {},
     "output_type": "execute_result"
    }
   ],
   "source": [
    "train.loc[train[\"price\"] == train[\"price\"].min()]"
   ]
  },
  {
   "cell_type": "code",
   "execution_count": 9,
   "metadata": {},
   "outputs": [
    {
     "data": {
      "text/plain": [
       "86.01552504730397"
      ]
     },
     "execution_count": 9,
     "metadata": {},
     "output_type": "execute_result"
    }
   ],
   "source": [
    "train.query(\"origin == 'MADRID'\").price.mean()"
   ]
  },
  {
   "cell_type": "code",
   "execution_count": 10,
   "metadata": {},
   "outputs": [
    {
     "data": {
      "text/plain": [
       "86.33105082341281"
      ]
     },
     "execution_count": 10,
     "metadata": {},
     "output_type": "execute_result"
    }
   ],
   "source": [
    "train.query(\"origin == 'BARCELONA'\").price.mean()"
   ]
  },
  {
   "cell_type": "markdown",
   "metadata": {},
   "source": [
    "Build charts for management report"
   ]
  },
  {
   "cell_type": "code",
   "execution_count": 11,
   "metadata": {},
   "outputs": [],
   "source": [
    "train_summary = (train\n",
    " .groupby(train[\"departure\"].dt.date)\n",
    " .agg(\n",
    "     ridership = (\"price\", \"count\"),\n",
    "     total_fare = (\"price\", \"sum\"),\n",
    "      )\n",
    ").reset_index()"
   ]
  },
  {
   "cell_type": "code",
   "execution_count": 12,
   "metadata": {},
   "outputs": [
    {
     "data": {
      "text/html": [
       "<div>\n",
       "<style scoped>\n",
       "    .dataframe tbody tr th:only-of-type {\n",
       "        vertical-align: middle;\n",
       "    }\n",
       "\n",
       "    .dataframe tbody tr th {\n",
       "        vertical-align: top;\n",
       "    }\n",
       "\n",
       "    .dataframe thead th {\n",
       "        text-align: right;\n",
       "    }\n",
       "</style>\n",
       "<table border=\"1\" class=\"dataframe\">\n",
       "  <thead>\n",
       "    <tr style=\"text-align: right;\">\n",
       "      <th></th>\n",
       "      <th>departure</th>\n",
       "      <th>ridership</th>\n",
       "      <th>total_fare</th>\n",
       "    </tr>\n",
       "  </thead>\n",
       "  <tbody>\n",
       "    <tr>\n",
       "      <th>0</th>\n",
       "      <td>2019-05-01</td>\n",
       "      <td>27752</td>\n",
       "      <td>2245333.78</td>\n",
       "    </tr>\n",
       "    <tr>\n",
       "      <th>1</th>\n",
       "      <td>2019-05-02</td>\n",
       "      <td>28602</td>\n",
       "      <td>2119504.40</td>\n",
       "    </tr>\n",
       "    <tr>\n",
       "      <th>2</th>\n",
       "      <td>2019-05-03</td>\n",
       "      <td>32322</td>\n",
       "      <td>2921006.38</td>\n",
       "    </tr>\n",
       "    <tr>\n",
       "      <th>3</th>\n",
       "      <td>2019-05-04</td>\n",
       "      <td>22838</td>\n",
       "      <td>1948140.10</td>\n",
       "    </tr>\n",
       "    <tr>\n",
       "      <th>4</th>\n",
       "      <td>2019-05-05</td>\n",
       "      <td>31110</td>\n",
       "      <td>3215268.30</td>\n",
       "    </tr>\n",
       "  </tbody>\n",
       "</table>\n",
       "</div>"
      ],
      "text/plain": [
       "    departure  ridership  total_fare\n",
       "0  2019-05-01      27752  2245333.78\n",
       "1  2019-05-02      28602  2119504.40\n",
       "2  2019-05-03      32322  2921006.38\n",
       "3  2019-05-04      22838  1948140.10\n",
       "4  2019-05-05      31110  3215268.30"
      ]
     },
     "execution_count": 12,
     "metadata": {},
     "output_type": "execute_result"
    }
   ],
   "source": [
    "train_summary.head()"
   ]
  },
  {
   "cell_type": "code",
   "execution_count": 13,
   "metadata": {},
   "outputs": [
    {
     "data": {
      "image/png": "[encoded data removed]",
      "text/plain": [
       "<Figure size 800x600 with 2 Axes>"
      ]
     },
     "metadata": {},
     "output_type": "display_data"
    }
   ],
   "source": [
    "fig, ax = plt.subplots(figsize=(8, 6))\n",
    " \n",
    "ax.set_title(\"Madrid-Barcelona Daily Ridership and Revenue May 2019\")\n",
    " \n",
    "ax.plot(\n",
    "    train_summary[\"departure\"], \n",
    "    train_summary[\"ridership\"] / 1000, # divide by thousands to change units\n",
    "    c=\"#830065\",\n",
    "    label=\"Ridership\"\n",
    ")\n",
    "ax.set_ylabel(\"Ridership (Thousands)\", fontsize=12)\n",
    " \n",
    "ax2 = ax.twinx()\n",
    " \n",
    "ax2.plot(\n",
    "    train_summary[\"departure\"], \n",
    "    train_summary[\"total_fare\"] / 1000000, # divide by millions to change units\n",
    "    c=\"#666366\",\n",
    "    label=\"Revenue\"\n",
    ")\n",
    "ax2.set_ylabel(\"Revenue (Millions)\", fontsize=12)\n",
    " \n",
    "fig.autofmt_xdate(rotation=45)\n",
    "fig.legend(bbox_to_anchor=(.9, .3))\n",
    " \n",
    "plt.show()"
   ]
  },
  {
   "cell_type": "markdown",
   "metadata": {},
   "source": [
    "BUILD DAILY RIDERSHIP CHART"
   ]
  },
  {
   "cell_type": "code",
   "execution_count": null,
   "metadata": {},
   "outputs": [],
   "source": [
    "df = (train\n",
    "      .groupby([\"departure_dayofweek\", \"origin\"])\n",
    "      .agg(ridership = (\"price\", \"count\"))\n",
    "     ).reset_index()\n",
    "df.head() "
   ]
  },
  {
   "cell_type": "code",
   "execution_count": null,
   "metadata": {},
   "outputs": [],
   "source": [
    "sns.barplot(x=\"departure_dayofweek\", y=\"ridership\", hue=\"origin\", data=df)"
   ]
  },
  {
   "cell_type": "code",
   "execution_count": null,
   "metadata": {},
   "outputs": [],
   "source": [
    "fig, ax = plt.subplots(figsize=(8, 6))\n",
    " \n",
    "sns.barplot(\n",
    "    data=df,\n",
    "    x=\"departure_dayofweek\",\n",
    "    y=\"ridership\",\n",
    "    hue=\"origin\",\n",
    "    palette=[\"#830065\", \"#666366\"]   \n",
    ").set(\n",
    "    title='Ridership by Weekday and Departure Location',\n",
    "    xlabel=\"Departure Day\",\n",
    "    ylabel=\"Ridership Volume\"\n",
    ")\n",
    " \n",
    "sns.despine()"
   ]
  },
  {
   "cell_type": "markdown",
   "metadata": {},
   "source": [
    "produce information and visuals for customer help site"
   ]
  },
  {
   "cell_type": "code",
   "execution_count": null,
   "metadata": {},
   "outputs": [],
   "source": [
    "train_summary = (\n",
    "    train\n",
    "    .groupby(\"vehicle_category\")\n",
    "    .agg(\n",
    "        average_fare = (\"price\", \"mean\"),\n",
    "        average_duration = (\"duration\", \"mean\")\n",
    "    )\n",
    ")\n",
    " \n",
    "train_summary.head()"
   ]
  },
  {
   "cell_type": "code",
   "execution_count": null,
   "metadata": {},
   "outputs": [],
   "source": [
    "fig, ax = plt.subplots(1, 2, figsize=(8, 5))\n",
    " \n",
    "fig.suptitle(\"Standard Trains are Cheaper, but Take Much Longer\")\n",
    " \n",
    "ax[0].bar(\n",
    "    x=train_summary.index, \n",
    "    height=train_summary[\"average_fare\"],\n",
    "    color=\"#830065\",\n",
    ")\n",
    " \n",
    "ax[0].set_title(\"Price by Train Type\")\n",
    "ax[0].set_ylabel(\"Price (Euro)\")\n",
    " \n",
    "ax[1].bar(\n",
    "    x=train_summary.index, \n",
    "    height=train_summary[\"average_duration\"],\n",
    "    color=\"#666366\",\n",
    ")\n",
    " \n",
    "ax[1].set_title(\"Trip Duration by Train Type\")\n",
    "ax[1].set_ylabel(\"Duration (Hours)\")\n",
    " \n",
    "plt.show()"
   ]
  },
  {
   "cell_type": "markdown",
   "metadata": {},
   "source": [
    "HEATMAP AND EXPORT SUMMARY TABLE"
   ]
  },
  {
   "cell_type": "code",
   "execution_count": null,
   "metadata": {},
   "outputs": [],
   "source": [
    "heatmap = train.pivot_table(\n",
    "    index=\"departure_hour\",\n",
    "    columns=\"departure_dayofweek\",\n",
    "    values=\"price\",\n",
    "    aggfunc=\"mean\"\n",
    ")\n",
    " \n",
    "heatmap"
   ]
  },
  {
   "cell_type": "code",
   "execution_count": null,
   "metadata": {},
   "outputs": [],
   "source": [
    "heatmap.style.background_gradient(\"RdYlGn_r\", axis=None)"
   ]
  },
  {
   "cell_type": "markdown",
   "metadata": {},
   "source": [
    "EXPORTING DATAFRAME USED TO BUILD THE HEATMAP TO CSV FILE"
   ]
  },
  {
   "cell_type": "code",
   "execution_count": null,
   "metadata": {},
   "outputs": [],
   "source": [
    "heatmap.to_csv(\"price_heatmap.csv\")"
   ]
  }
 ],
 "metadata": {
  "kernelspec": {
   "display_name": "Python 3",
   "language": "python",
   "name": "python3"
  },
  "language_info": {
   "codemirror_mode": {
    "name": "ipython",
    "version": 3
   },
   "file_extension": ".py",
   "mimetype": "text/x-python",
   "name": "python",
   "nbconvert_exporter": "python",
   "pygments_lexer": "ipython3",
   "version": "3.10.9"
  }
 },
 "nbformat": 4,
 "nbformat_minor": 2
}
